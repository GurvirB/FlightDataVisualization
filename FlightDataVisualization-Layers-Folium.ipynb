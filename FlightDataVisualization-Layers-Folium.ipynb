{
 "cells": [
  {
   "cell_type": "code",
   "execution_count": 1,
   "metadata": {},
   "outputs": [],
   "source": [
    "import folium,math,matplotlib\n",
    "#from osgeo import ogr, osr\n",
    "import matplotlib.pyplot as plt\n",
    "import pandas as pd,json\n",
    "import numpy as np\n",
    "from sklearn.base import BaseEstimator,TransformerMixin\n",
    "from datetime import date, datetime, timedelta\n",
    "from sklearn.pipeline import Pipeline\n",
    "import branca.colormap as cm\n",
    "from functools import partial\n",
    "import pyproj\n",
    "from shapely.ops import transform\n",
    "from shapely.geometry import Point"
   ]
  },
  {
   "cell_type": "code",
   "execution_count": 124,
   "metadata": {},
   "outputs": [],
   "source": [
    "###Functions from Dr. S's code\n",
    "\n",
    "def parseTStamp(tstamp_df):    \n",
    "    return datetime.strptime(tstamp_df['timeAtPosition'], '%Y-%m-%dT%H:%M:%S%z')\n",
    "\n",
    "\n",
    "def dms2dec(dms_tuple):\n",
    "   # print(dms_tuple)\n",
    "    \n",
    "    deg, minutes, seconds, direction = dms_tuple\n",
    "    if np.isnan(seconds):\n",
    "        seconds=0\n",
    "    # print(\"Out\", deg, minutes, seconds, direction)\n",
    "    sign = 1\n",
    "    direction = direction.strip()\n",
    "    if direction == 'W' or direction == 'WEST' or direction =='S' or direction=='SOUTH':\n",
    "        sign=-1\n",
    "    return sign*(deg + minutes/60.0 + seconds/(60.0*60.0))\n",
    "\n",
    "\n",
    "def simple2alt(alt_df):\n",
    "    try:\n",
    "        return int(alt_df['simpleAltitude'].strip('C').strip('T')) *100\n",
    "    except Exception as exp:\n",
    "        return alt_df['simpleAltitude']\n",
    "    \n",
    "    \n",
    "class TFMSDataPreprocessor(BaseEstimator, TransformerMixin):\n",
    "    \n",
    "    def __init__(self, attributes):\n",
    "        self.attributes = attributes\n",
    "    \n",
    "    \n",
    "    def fit(self, X, y=None):\n",
    "        return self\n",
    "    \n",
    "    \n",
    "    def transform(self, X):        \n",
    "        X['lat'] = X[['latitudeDMS_degrees','latitudeDMS_minutes','latitudeDMS_seconds', 'latitudeDMS_direction']].apply(dms2dec, axis=1)\n",
    "        X['long'] = X[['longitudeDMS_degrees','longitudeDMS_minutes','longitudeDMS_seconds', 'longitudeDMS_direction']].apply(dms2dec, axis=1)\n",
    "        X['alt'] = X[['simpleAltitude']].apply(simple2alt, axis=1)\n",
    "        X['tstamp'] = X[['timeAtPosition']].apply(parseTStamp, axis=1)\n",
    "        return X[self.attributes]\n",
    "    \n",
    "\n",
    "extract_attributes = [\n",
    "    'tstamp',\n",
    "    'flightRef',\n",
    "    'acid',\n",
    "    'gufi',    \n",
    "    'lat',\n",
    "    'long',\n",
    "    'alt',\n",
    "    'speed',\n",
    "    'depArpt',\n",
    "    'arrArpt']\n",
    "\n",
    "tfms_csv_files = ['KDFW20190512_170000.csv','KDFW20190512_160000.csv']\n",
    "tfms_df_dict={}\n",
    "\n",
    "colors1=[]\n",
    "mymap = folium.Map(location=[32.8917,-97.0417], zoom_start=9 , tiles='Stamen Terrain')\n",
    "\n",
    "for csv in tfms_csv_files:\n",
    "    #print('Read: {}'.format(csv))\n",
    "    tfms_df_dict={csv:pd.read_csv(csv)}\n",
    "    for key in tfms_df_dict:\n",
    "        pipe = Pipeline([('SELECT', TFMSDataPreprocessor(extract_attributes)), ])\n",
    "        flt_waypoints_df = pipe.fit_transform(tfms_df_dict[key])\n",
    "        flt_waypoints_df=flt_waypoints_df.dropna()\n",
    "        #print(flt_waypoints_df.shape)\n",
    "        lats=flt_waypoints_df['lat'].tolist()\n",
    "        longs=flt_waypoints_df['long'].tolist()\n",
    "        altitudes=flt_waypoints_df['alt'].tolist()\n",
    "        #print(csv,len(altitudes))\n",
    "        tstamps=flt_waypoints_df['tstamp'].tolist()\n",
    "        #print(csv,len(tstamps))\n",
    "        acid=flt_waypoints_df['acid'].tolist()\n",
    "        \n",
    "        alt_min = np.min(altitudes)\n",
    "        #print(\"alt_min\",alt_min)\n",
    "        alt_max = np.max(altitudes)\n",
    "        #print(\"alt_max\",alt_max)\n",
    "        \n",
    "        cmap=cm.LinearColormap(['b','c','g','y','r'], vmin=alt_min, vmax=alt_max, caption=csv)\n",
    "        fg=folium.FeatureGroup(name=csv, show=False)\n",
    "\n",
    "        \n",
    "        for ii in range(0,len(altitudes)):\n",
    "            #color_interp = np.interp(altitudes[ii],[alt_min,alt_max],[50,200])\n",
    "            fg.add_child(folium.CircleMarker([lats[ii],longs[ii]],\n",
    "                #radius=0.0005*altitudes[ii],\n",
    "                radius=5,\n",
    "                popup=altitudes[ii],\n",
    "                          fill=True,\n",
    "                fill_color=cmap(altitudes[ii]),\n",
    "                weight=0, fill_opacity=1))\n",
    "\n",
    "        #folium.Circle(location=[32.8917,-97.0417],fill_color='#000', radius=18520, weight=1, color=\"#000\").add_to(mymap)\n",
    "        #cax, _ = matplotlib.colorbar.make_axes(ax)\n",
    "        #cbar = matplotlib.colorbar.ColorbarBase(cax, cmap=cmap,norm=normalize,label='Elevation')\n",
    "        cmap.caption='Flight altitude'\n",
    "        mymap.add_child(fg)\n",
    "        mymap.add_child(cmap)\n",
    "        \n",
    "mymap.add_child(folium.map.LayerControl())\n",
    "mymap.save('MyFoliummap.html')"
   ]
  },
  {
   "cell_type": "code",
   "execution_count": 15,
   "metadata": {},
   "outputs": [
    {
     "data": {
      "text/plain": [
       "(20776, 10)"
      ]
     },
     "execution_count": 15,
     "metadata": {},
     "output_type": "execute_result"
    }
   ],
   "source": [
    "flt_waypoints_df=flt_waypoints_df.dropna()\n",
    "flt_waypoints_df.shape"
   ]
  },
  {
   "cell_type": "code",
   "execution_count": null,
   "metadata": {},
   "outputs": [],
   "source": [
    "lats=flt_waypoints_df['lat'].tolist()\n",
    "longs=flt_waypoints_df['long'].tolist()\n",
    "altitudes=flt_waypoints_df['alt'].tolist()\n",
    "#print(len(altitudes))\n",
    "tstamps=flt_waypoints_df['tstamp'].tolist()\n",
    "#print(len(tstamps))\n",
    "acid=flt_waypoints_df['acid'].tolist()"
   ]
  },
  {
   "cell_type": "code",
   "execution_count": null,
   "metadata": {},
   "outputs": [],
   "source": [
    "mymap = folium.Map(location=[32.8917,-97.0417], zoom_start=9 , tiles='Stamen Terrain')"
   ]
  },
  {
   "cell_type": "code",
   "execution_count": null,
   "metadata": {},
   "outputs": [],
   "source": [
    "from branca.colormap import linear\n",
    "\n",
    "# scatter map based on lons, lats, alts and color .\n",
    "alt_min = np.min(altitudes)\n",
    "#print(\"alt_min\",alt_min)\n",
    "alt_max = np.max(altitudes)\n",
    "#print(\"alt_max\",alt_max)\n",
    "\n",
    "#cmap = plt.get_cmap('gist_rainbow')\n",
    "cmap1=cm.LinearColormap(['b','c','g','y','r'], vmin=alt_min, vmax=alt_max, caption='KDFW20190512_160000')\n",
    "cmap2=cm.LinearColormap(['b','c','g','y','r'], vmin=alt_min, vmax=alt_max, caption='KDFW20190512_170000')\n",
    "#normalize = matplotlib.colors.Normalize(vmin=alt_min, vmax=alt_max)\n",
    "cmap"
   ]
  },
  {
   "cell_type": "code",
   "execution_count": null,
   "metadata": {},
   "outputs": [],
   "source": [
    "for ii in range(0,len(altitudes)):\n",
    "    #color_interp = np.interp(altitudes[ii],[alt_min,alt_max],[50,200])\n",
    "    folium.CircleMarker([lats[ii],longs[ii]],\n",
    "        #radius=0.0005*altitudes[ii],\n",
    "        radius=5,\n",
    "        popup=altitudes[ii],\n",
    "                  fill=True,\n",
    "        fill_color=cmap(altitudes[ii]),\n",
    "        weight=0, fill_opacity=1).add_to(mymap)\n",
    "    \n",
    "#folium.Circle(location=[32.8917,-97.0417],fill_color='#000', radius=18520, weight=1, color=\"#000\").add_to(mymap)\n",
    "#cax, _ = matplotlib.colorbar.make_axes(ax)\n",
    "#cbar = matplotlib.colorbar.ColorbarBase(cax, cmap=cmap,norm=normalize,label='Elevation')\n",
    "cmap.caption='Flight altitude'\n",
    "mymap.add_child(cmap)\n",
    "#plugins.Fullscreen(position='topright', force_separate_button=True).add_to(mymap)"
   ]
  },
  {
   "cell_type": "code",
   "execution_count": null,
   "metadata": {},
   "outputs": [],
   "source": [
    "mymap.save('MyFoliummap.html')"
   ]
  },
  {
   "cell_type": "code",
   "execution_count": null,
   "metadata": {},
   "outputs": [],
   "source": []
  },
  {
   "cell_type": "code",
   "execution_count": null,
   "metadata": {},
   "outputs": [],
   "source": []
  },
  {
   "cell_type": "code",
   "execution_count": null,
   "metadata": {},
   "outputs": [],
   "source": [
    "!pip install branca"
   ]
  },
  {
   "cell_type": "code",
   "execution_count": null,
   "metadata": {},
   "outputs": [],
   "source": [
    "!pip install folium"
   ]
  },
  {
   "cell_type": "code",
   "execution_count": null,
   "metadata": {},
   "outputs": [],
   "source": [
    "!pip install shapely"
   ]
  },
  {
   "cell_type": "code",
   "execution_count": null,
   "metadata": {},
   "outputs": [],
   "source": []
  }
 ],
 "metadata": {
  "kernelspec": {
   "display_name": "Python 3",
   "language": "python",
   "name": "python3"
  },
  "language_info": {
   "codemirror_mode": {
    "name": "ipython",
    "version": 3
   },
   "file_extension": ".py",
   "mimetype": "text/x-python",
   "name": "python",
   "nbconvert_exporter": "python",
   "pygments_lexer": "ipython3",
   "version": "3.7.4"
  }
 },
 "nbformat": 4,
 "nbformat_minor": 2
}
